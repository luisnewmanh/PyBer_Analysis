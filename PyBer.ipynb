{
 "cells": [
  {
   "cell_type": "code",
   "execution_count": 57,
   "metadata": {},
   "outputs": [],
   "source": [
    "%matplotlib inline"
   ]
  },
  {
   "cell_type": "code",
   "execution_count": 58,
   "metadata": {},
   "outputs": [],
   "source": [
    "# Dependencies\n",
    "import matplotlib.pyplot as plt\n",
    "import numpy as np\n",
    "import pandas as pd\n",
    "import statistics"
   ]
  },
  {
   "cell_type": "code",
   "execution_count": 59,
   "metadata": {},
   "outputs": [],
   "source": [
    "# #Import your data into a Pandas DataFrame.\n",
    "city_data_df = pd.read_csv(\"Resources/city_data.csv\")\n",
    "ride_data_df = pd.read_csv(\"Resources/ride_data.csv\")"
   ]
  },
  {
   "cell_type": "code",
   "execution_count": 60,
   "metadata": {},
   "outputs": [
    {
     "data": {
      "text/html": [
       "<div>\n",
       "<style scoped>\n",
       "    .dataframe tbody tr th:only-of-type {\n",
       "        vertical-align: middle;\n",
       "    }\n",
       "\n",
       "    .dataframe tbody tr th {\n",
       "        vertical-align: top;\n",
       "    }\n",
       "\n",
       "    .dataframe thead th {\n",
       "        text-align: right;\n",
       "    }\n",
       "</style>\n",
       "<table border=\"1\" class=\"dataframe\">\n",
       "  <thead>\n",
       "    <tr style=\"text-align: right;\">\n",
       "      <th></th>\n",
       "      <th>city</th>\n",
       "      <th>driver_count</th>\n",
       "      <th>type</th>\n",
       "    </tr>\n",
       "  </thead>\n",
       "  <tbody>\n",
       "    <tr>\n",
       "      <th>0</th>\n",
       "      <td>Richardfort</td>\n",
       "      <td>38</td>\n",
       "      <td>Urban</td>\n",
       "    </tr>\n",
       "    <tr>\n",
       "      <th>1</th>\n",
       "      <td>Williamsstad</td>\n",
       "      <td>59</td>\n",
       "      <td>Urban</td>\n",
       "    </tr>\n",
       "    <tr>\n",
       "      <th>2</th>\n",
       "      <td>Port Angela</td>\n",
       "      <td>67</td>\n",
       "      <td>Urban</td>\n",
       "    </tr>\n",
       "    <tr>\n",
       "      <th>3</th>\n",
       "      <td>Rodneyfort</td>\n",
       "      <td>34</td>\n",
       "      <td>Urban</td>\n",
       "    </tr>\n",
       "    <tr>\n",
       "      <th>4</th>\n",
       "      <td>West Robert</td>\n",
       "      <td>39</td>\n",
       "      <td>Urban</td>\n",
       "    </tr>\n",
       "    <tr>\n",
       "      <th>5</th>\n",
       "      <td>West Anthony</td>\n",
       "      <td>70</td>\n",
       "      <td>Urban</td>\n",
       "    </tr>\n",
       "    <tr>\n",
       "      <th>6</th>\n",
       "      <td>West Angela</td>\n",
       "      <td>48</td>\n",
       "      <td>Urban</td>\n",
       "    </tr>\n",
       "    <tr>\n",
       "      <th>7</th>\n",
       "      <td>Martinezhaven</td>\n",
       "      <td>25</td>\n",
       "      <td>Urban</td>\n",
       "    </tr>\n",
       "    <tr>\n",
       "      <th>8</th>\n",
       "      <td>Karenberg</td>\n",
       "      <td>22</td>\n",
       "      <td>Urban</td>\n",
       "    </tr>\n",
       "    <tr>\n",
       "      <th>9</th>\n",
       "      <td>Barajasview</td>\n",
       "      <td>26</td>\n",
       "      <td>Urban</td>\n",
       "    </tr>\n",
       "  </tbody>\n",
       "</table>\n",
       "</div>"
      ],
      "text/plain": [
       "            city  driver_count   type\n",
       "0    Richardfort            38  Urban\n",
       "1   Williamsstad            59  Urban\n",
       "2    Port Angela            67  Urban\n",
       "3     Rodneyfort            34  Urban\n",
       "4    West Robert            39  Urban\n",
       "5   West Anthony            70  Urban\n",
       "6    West Angela            48  Urban\n",
       "7  Martinezhaven            25  Urban\n",
       "8      Karenberg            22  Urban\n",
       "9    Barajasview            26  Urban"
      ]
     },
     "execution_count": 60,
     "metadata": {},
     "output_type": "execute_result"
    }
   ],
   "source": [
    "city_data_df.head(10)"
   ]
  },
  {
   "cell_type": "code",
   "execution_count": 61,
   "metadata": {},
   "outputs": [
    {
     "data": {
      "text/html": [
       "<div>\n",
       "<style scoped>\n",
       "    .dataframe tbody tr th:only-of-type {\n",
       "        vertical-align: middle;\n",
       "    }\n",
       "\n",
       "    .dataframe tbody tr th {\n",
       "        vertical-align: top;\n",
       "    }\n",
       "\n",
       "    .dataframe thead th {\n",
       "        text-align: right;\n",
       "    }\n",
       "</style>\n",
       "<table border=\"1\" class=\"dataframe\">\n",
       "  <thead>\n",
       "    <tr style=\"text-align: right;\">\n",
       "      <th></th>\n",
       "      <th>driver_count</th>\n",
       "    </tr>\n",
       "  </thead>\n",
       "  <tbody>\n",
       "    <tr>\n",
       "      <th>count</th>\n",
       "      <td>120.000000</td>\n",
       "    </tr>\n",
       "    <tr>\n",
       "      <th>mean</th>\n",
       "      <td>24.775000</td>\n",
       "    </tr>\n",
       "    <tr>\n",
       "      <th>std</th>\n",
       "      <td>20.277678</td>\n",
       "    </tr>\n",
       "    <tr>\n",
       "      <th>min</th>\n",
       "      <td>1.000000</td>\n",
       "    </tr>\n",
       "    <tr>\n",
       "      <th>25%</th>\n",
       "      <td>7.000000</td>\n",
       "    </tr>\n",
       "    <tr>\n",
       "      <th>50%</th>\n",
       "      <td>20.500000</td>\n",
       "    </tr>\n",
       "    <tr>\n",
       "      <th>75%</th>\n",
       "      <td>38.250000</td>\n",
       "    </tr>\n",
       "    <tr>\n",
       "      <th>max</th>\n",
       "      <td>73.000000</td>\n",
       "    </tr>\n",
       "  </tbody>\n",
       "</table>\n",
       "</div>"
      ],
      "text/plain": [
       "       driver_count\n",
       "count    120.000000\n",
       "mean      24.775000\n",
       "std       20.277678\n",
       "min        1.000000\n",
       "25%        7.000000\n",
       "50%       20.500000\n",
       "75%       38.250000\n",
       "max       73.000000"
      ]
     },
     "execution_count": 61,
     "metadata": {},
     "output_type": "execute_result"
    }
   ],
   "source": [
    "city_data_df.describe()"
   ]
  },
  {
   "cell_type": "code",
   "execution_count": 62,
   "metadata": {},
   "outputs": [
    {
     "data": {
      "text/plain": [
       "city            120\n",
       "driver_count    120\n",
       "type            120\n",
       "dtype: int64"
      ]
     },
     "execution_count": 62,
     "metadata": {},
     "output_type": "execute_result"
    }
   ],
   "source": [
    "# Get the columns and the rows that are not null.\n",
    "city_data_df.count()"
   ]
  },
  {
   "cell_type": "code",
   "execution_count": 63,
   "metadata": {},
   "outputs": [
    {
     "data": {
      "text/plain": [
       "city            0\n",
       "driver_count    0\n",
       "type            0\n",
       "dtype: int64"
      ]
     },
     "execution_count": 63,
     "metadata": {},
     "output_type": "execute_result"
    }
   ],
   "source": [
    "# Get the columns and the rows that are not null.\n",
    "city_data_df.isnull().sum()"
   ]
  },
  {
   "cell_type": "code",
   "execution_count": 64,
   "metadata": {},
   "outputs": [
    {
     "data": {
      "text/plain": [
       "city            object\n",
       "driver_count     int64\n",
       "type            object\n",
       "dtype: object"
      ]
     },
     "execution_count": 64,
     "metadata": {},
     "output_type": "execute_result"
    }
   ],
   "source": [
    "# Get the data types of each column.\n",
    "city_data_df.dtypes"
   ]
  },
  {
   "cell_type": "code",
   "execution_count": 65,
   "metadata": {},
   "outputs": [
    {
     "data": {
      "text/plain": [
       "array(['Urban', 'Suburban', 'Rural'], dtype=object)"
      ]
     },
     "execution_count": 65,
     "metadata": {},
     "output_type": "execute_result"
    }
   ],
   "source": [
    "# Get the unique values of the type of city.\n",
    "city_data_df[\"type\"].unique()"
   ]
  },
  {
   "cell_type": "code",
   "execution_count": 66,
   "metadata": {},
   "outputs": [
    {
     "name": "stdout",
     "output_type": "stream",
     "text": [
      "Urban= 66\n",
      "Suburban= 36\n",
      "Rural= 18\n"
     ]
    }
   ],
   "source": [
    "# Get the number of data points from the Urban cities.\n",
    "U=sum(city_data_df[\"type\"]==\"Urban\")\n",
    "print('Urban= '+ str(U))\n",
    "# Get the number of data points from the Urban cities.\n",
    "S=sum(city_data_df[\"type\"]==\"Suburban\")\n",
    "print('Suburban= '+ str(S))\n",
    "# Get the number of data points from the Urban cities.\n",
    "R=sum(city_data_df[\"type\"]==\"Rural\")\n",
    "print('Rural= '+ str(R))"
   ]
  },
  {
   "cell_type": "code",
   "execution_count": 67,
   "metadata": {},
   "outputs": [
    {
     "data": {
      "text/html": [
       "<div>\n",
       "<style scoped>\n",
       "    .dataframe tbody tr th:only-of-type {\n",
       "        vertical-align: middle;\n",
       "    }\n",
       "\n",
       "    .dataframe tbody tr th {\n",
       "        vertical-align: top;\n",
       "    }\n",
       "\n",
       "    .dataframe thead th {\n",
       "        text-align: right;\n",
       "    }\n",
       "</style>\n",
       "<table border=\"1\" class=\"dataframe\">\n",
       "  <thead>\n",
       "    <tr style=\"text-align: right;\">\n",
       "      <th></th>\n",
       "      <th>city</th>\n",
       "      <th>date</th>\n",
       "      <th>fare</th>\n",
       "      <th>ride_id</th>\n",
       "    </tr>\n",
       "  </thead>\n",
       "  <tbody>\n",
       "    <tr>\n",
       "      <th>0</th>\n",
       "      <td>Lake Jonathanshire</td>\n",
       "      <td>2019-01-14 10:14:22</td>\n",
       "      <td>13.83</td>\n",
       "      <td>5739410935873</td>\n",
       "    </tr>\n",
       "    <tr>\n",
       "      <th>1</th>\n",
       "      <td>South Michelleport</td>\n",
       "      <td>2019-03-04 18:24:09</td>\n",
       "      <td>30.24</td>\n",
       "      <td>2343912425577</td>\n",
       "    </tr>\n",
       "    <tr>\n",
       "      <th>2</th>\n",
       "      <td>Port Samanthamouth</td>\n",
       "      <td>2019-02-24 04:29:00</td>\n",
       "      <td>33.44</td>\n",
       "      <td>2005065760003</td>\n",
       "    </tr>\n",
       "    <tr>\n",
       "      <th>3</th>\n",
       "      <td>Rodneyfort</td>\n",
       "      <td>2019-02-10 23:22:03</td>\n",
       "      <td>23.44</td>\n",
       "      <td>5149245426178</td>\n",
       "    </tr>\n",
       "    <tr>\n",
       "      <th>4</th>\n",
       "      <td>South Jack</td>\n",
       "      <td>2019-03-06 04:28:35</td>\n",
       "      <td>34.58</td>\n",
       "      <td>3908451377344</td>\n",
       "    </tr>\n",
       "    <tr>\n",
       "      <th>5</th>\n",
       "      <td>South Latoya</td>\n",
       "      <td>2019-03-11 12:26:48</td>\n",
       "      <td>9.52</td>\n",
       "      <td>1994999424437</td>\n",
       "    </tr>\n",
       "    <tr>\n",
       "      <th>6</th>\n",
       "      <td>New Paulville</td>\n",
       "      <td>2019-02-27 11:17:56</td>\n",
       "      <td>43.25</td>\n",
       "      <td>793208410091</td>\n",
       "    </tr>\n",
       "    <tr>\n",
       "      <th>7</th>\n",
       "      <td>Simpsonburgh</td>\n",
       "      <td>2019-04-26 00:43:24</td>\n",
       "      <td>35.98</td>\n",
       "      <td>111953927754</td>\n",
       "    </tr>\n",
       "    <tr>\n",
       "      <th>8</th>\n",
       "      <td>South Karenland</td>\n",
       "      <td>2019-01-08 03:28:48</td>\n",
       "      <td>35.09</td>\n",
       "      <td>7995623208694</td>\n",
       "    </tr>\n",
       "    <tr>\n",
       "      <th>9</th>\n",
       "      <td>North Jasmine</td>\n",
       "      <td>2019-03-09 06:26:29</td>\n",
       "      <td>42.81</td>\n",
       "      <td>5327642267789</td>\n",
       "    </tr>\n",
       "  </tbody>\n",
       "</table>\n",
       "</div>"
      ],
      "text/plain": [
       "                 city                 date   fare        ride_id\n",
       "0  Lake Jonathanshire  2019-01-14 10:14:22  13.83  5739410935873\n",
       "1  South Michelleport  2019-03-04 18:24:09  30.24  2343912425577\n",
       "2  Port Samanthamouth  2019-02-24 04:29:00  33.44  2005065760003\n",
       "3          Rodneyfort  2019-02-10 23:22:03  23.44  5149245426178\n",
       "4          South Jack  2019-03-06 04:28:35  34.58  3908451377344\n",
       "5        South Latoya  2019-03-11 12:26:48   9.52  1994999424437\n",
       "6       New Paulville  2019-02-27 11:17:56  43.25   793208410091\n",
       "7        Simpsonburgh  2019-04-26 00:43:24  35.98   111953927754\n",
       "8     South Karenland  2019-01-08 03:28:48  35.09  7995623208694\n",
       "9       North Jasmine  2019-03-09 06:26:29  42.81  5327642267789"
      ]
     },
     "execution_count": 67,
     "metadata": {},
     "output_type": "execute_result"
    }
   ],
   "source": [
    "ride_data_df.head(10) "
   ]
  },
  {
   "cell_type": "code",
   "execution_count": 68,
   "metadata": {},
   "outputs": [
    {
     "data": {
      "text/html": [
       "<div>\n",
       "<style scoped>\n",
       "    .dataframe tbody tr th:only-of-type {\n",
       "        vertical-align: middle;\n",
       "    }\n",
       "\n",
       "    .dataframe tbody tr th {\n",
       "        vertical-align: top;\n",
       "    }\n",
       "\n",
       "    .dataframe thead th {\n",
       "        text-align: right;\n",
       "    }\n",
       "</style>\n",
       "<table border=\"1\" class=\"dataframe\">\n",
       "  <thead>\n",
       "    <tr style=\"text-align: right;\">\n",
       "      <th></th>\n",
       "      <th>fare</th>\n",
       "      <th>ride_id</th>\n",
       "    </tr>\n",
       "  </thead>\n",
       "  <tbody>\n",
       "    <tr>\n",
       "      <th>count</th>\n",
       "      <td>2375.000000</td>\n",
       "      <td>2.375000e+03</td>\n",
       "    </tr>\n",
       "    <tr>\n",
       "      <th>mean</th>\n",
       "      <td>26.753112</td>\n",
       "      <td>4.887270e+12</td>\n",
       "    </tr>\n",
       "    <tr>\n",
       "      <th>std</th>\n",
       "      <td>12.109465</td>\n",
       "      <td>2.907361e+12</td>\n",
       "    </tr>\n",
       "    <tr>\n",
       "      <th>min</th>\n",
       "      <td>4.050000</td>\n",
       "      <td>3.218337e+08</td>\n",
       "    </tr>\n",
       "    <tr>\n",
       "      <th>25%</th>\n",
       "      <td>17.190000</td>\n",
       "      <td>2.381175e+12</td>\n",
       "    </tr>\n",
       "    <tr>\n",
       "      <th>50%</th>\n",
       "      <td>26.600000</td>\n",
       "      <td>4.748541e+12</td>\n",
       "    </tr>\n",
       "    <tr>\n",
       "      <th>75%</th>\n",
       "      <td>36.645000</td>\n",
       "      <td>7.461936e+12</td>\n",
       "    </tr>\n",
       "    <tr>\n",
       "      <th>max</th>\n",
       "      <td>58.550000</td>\n",
       "      <td>9.991538e+12</td>\n",
       "    </tr>\n",
       "  </tbody>\n",
       "</table>\n",
       "</div>"
      ],
      "text/plain": [
       "              fare       ride_id\n",
       "count  2375.000000  2.375000e+03\n",
       "mean     26.753112  4.887270e+12\n",
       "std      12.109465  2.907361e+12\n",
       "min       4.050000  3.218337e+08\n",
       "25%      17.190000  2.381175e+12\n",
       "50%      26.600000  4.748541e+12\n",
       "75%      36.645000  7.461936e+12\n",
       "max      58.550000  9.991538e+12"
      ]
     },
     "execution_count": 68,
     "metadata": {},
     "output_type": "execute_result"
    }
   ],
   "source": [
    "ride_data_df.describe()"
   ]
  },
  {
   "cell_type": "code",
   "execution_count": 69,
   "metadata": {},
   "outputs": [
    {
     "data": {
      "text/plain": [
       "city       2375\n",
       "date       2375\n",
       "fare       2375\n",
       "ride_id    2375\n",
       "dtype: int64"
      ]
     },
     "execution_count": 69,
     "metadata": {},
     "output_type": "execute_result"
    }
   ],
   "source": [
    "# Get the columns and the rows that are not null.\n",
    "ride_data_df.count()"
   ]
  },
  {
   "cell_type": "code",
   "execution_count": 70,
   "metadata": {},
   "outputs": [
    {
     "data": {
      "text/plain": [
       "city       0\n",
       "date       0\n",
       "fare       0\n",
       "ride_id    0\n",
       "dtype: int64"
      ]
     },
     "execution_count": 70,
     "metadata": {},
     "output_type": "execute_result"
    }
   ],
   "source": [
    "# Get the columns and the rows that are not null.\n",
    "ride_data_df.isnull().sum()"
   ]
  },
  {
   "cell_type": "code",
   "execution_count": 71,
   "metadata": {},
   "outputs": [
    {
     "data": {
      "text/plain": [
       "city        object\n",
       "date        object\n",
       "fare       float64\n",
       "ride_id      int64\n",
       "dtype: object"
      ]
     },
     "execution_count": 71,
     "metadata": {},
     "output_type": "execute_result"
    }
   ],
   "source": [
    "# Get the data types of each column.\n",
    "ride_data_df.dtypes"
   ]
  },
  {
   "cell_type": "code",
   "execution_count": 72,
   "metadata": {},
   "outputs": [
    {
     "data": {
      "text/html": [
       "<div>\n",
       "<style scoped>\n",
       "    .dataframe tbody tr th:only-of-type {\n",
       "        vertical-align: middle;\n",
       "    }\n",
       "\n",
       "    .dataframe tbody tr th {\n",
       "        vertical-align: top;\n",
       "    }\n",
       "\n",
       "    .dataframe thead th {\n",
       "        text-align: right;\n",
       "    }\n",
       "</style>\n",
       "<table border=\"1\" class=\"dataframe\">\n",
       "  <thead>\n",
       "    <tr style=\"text-align: right;\">\n",
       "      <th></th>\n",
       "      <th>city</th>\n",
       "      <th>date</th>\n",
       "      <th>fare</th>\n",
       "      <th>ride_id</th>\n",
       "      <th>driver_count</th>\n",
       "      <th>type</th>\n",
       "    </tr>\n",
       "  </thead>\n",
       "  <tbody>\n",
       "    <tr>\n",
       "      <th>0</th>\n",
       "      <td>Lake Jonathanshire</td>\n",
       "      <td>2019-01-14 10:14:22</td>\n",
       "      <td>13.83</td>\n",
       "      <td>5739410935873</td>\n",
       "      <td>5</td>\n",
       "      <td>Urban</td>\n",
       "    </tr>\n",
       "    <tr>\n",
       "      <th>1</th>\n",
       "      <td>South Michelleport</td>\n",
       "      <td>2019-03-04 18:24:09</td>\n",
       "      <td>30.24</td>\n",
       "      <td>2343912425577</td>\n",
       "      <td>72</td>\n",
       "      <td>Urban</td>\n",
       "    </tr>\n",
       "    <tr>\n",
       "      <th>2</th>\n",
       "      <td>Port Samanthamouth</td>\n",
       "      <td>2019-02-24 04:29:00</td>\n",
       "      <td>33.44</td>\n",
       "      <td>2005065760003</td>\n",
       "      <td>57</td>\n",
       "      <td>Urban</td>\n",
       "    </tr>\n",
       "    <tr>\n",
       "      <th>3</th>\n",
       "      <td>Rodneyfort</td>\n",
       "      <td>2019-02-10 23:22:03</td>\n",
       "      <td>23.44</td>\n",
       "      <td>5149245426178</td>\n",
       "      <td>34</td>\n",
       "      <td>Urban</td>\n",
       "    </tr>\n",
       "    <tr>\n",
       "      <th>4</th>\n",
       "      <td>South Jack</td>\n",
       "      <td>2019-03-06 04:28:35</td>\n",
       "      <td>34.58</td>\n",
       "      <td>3908451377344</td>\n",
       "      <td>46</td>\n",
       "      <td>Urban</td>\n",
       "    </tr>\n",
       "  </tbody>\n",
       "</table>\n",
       "</div>"
      ],
      "text/plain": [
       "                 city                 date   fare        ride_id  \\\n",
       "0  Lake Jonathanshire  2019-01-14 10:14:22  13.83  5739410935873   \n",
       "1  South Michelleport  2019-03-04 18:24:09  30.24  2343912425577   \n",
       "2  Port Samanthamouth  2019-02-24 04:29:00  33.44  2005065760003   \n",
       "3          Rodneyfort  2019-02-10 23:22:03  23.44  5149245426178   \n",
       "4          South Jack  2019-03-06 04:28:35  34.58  3908451377344   \n",
       "\n",
       "   driver_count   type  \n",
       "0             5  Urban  \n",
       "1            72  Urban  \n",
       "2            57  Urban  \n",
       "3            34  Urban  \n",
       "4            46  Urban  "
      ]
     },
     "execution_count": 72,
     "metadata": {},
     "output_type": "execute_result"
    }
   ],
   "source": [
    "#Merge your DataFrames by city\n",
    "# Combine the data into a single dataset\n",
    "pyber_data_df = pd.merge(ride_data_df, city_data_df, how=\"left\", on=[\"city\", \"city\"])\n",
    "# Display the DataFrame\n",
    "pyber_data_df.head()"
   ]
  },
  {
   "cell_type": "code",
   "execution_count": 73,
   "metadata": {},
   "outputs": [
    {
     "name": "stdout",
     "output_type": "stream",
     "text": [
      "                 city                 date   fare        ride_id  \\\n",
      "0  Lake Jonathanshire  2019-01-14 10:14:22  13.83  5739410935873   \n",
      "1  South Michelleport  2019-03-04 18:24:09  30.24  2343912425577   \n",
      "2  Port Samanthamouth  2019-02-24 04:29:00  33.44  2005065760003   \n",
      "3          Rodneyfort  2019-02-10 23:22:03  23.44  5149245426178   \n",
      "4          South Jack  2019-03-06 04:28:35  34.58  3908451377344   \n",
      "\n",
      "   driver_count   type  \n",
      "0             5  Urban  \n",
      "1            72  Urban  \n",
      "2            57  Urban  \n",
      "3            34  Urban  \n",
      "4            46  Urban  \n",
      "               city                 date   fare        ride_id  driver_count  \\\n",
      "1625  Barronchester  2019-01-27 03:08:01  27.79  6653622887913            11   \n",
      "1626  East Kentstad  2019-04-07 19:44:19  18.75  6575961095852            20   \n",
      "1627      Lake Omar  2019-01-17 21:33:35  21.71   966911700371            22   \n",
      "1628     Myersshire  2019-02-27 17:38:39  17.10  5706770909868            19   \n",
      "1629    West Hannah  2019-04-19 01:06:59  37.78  2273047151891            12   \n",
      "\n",
      "          type  \n",
      "1625  Suburban  \n",
      "1626  Suburban  \n",
      "1627  Suburban  \n",
      "1628  Suburban  \n",
      "1629  Suburban  \n",
      "                 city                 date   fare        ride_id  \\\n",
      "2250   Randallchester  2019-04-13 11:13:31  43.22  1076079536213   \n",
      "2251      North Holly  2019-02-02 14:54:00  12.42  1985256326182   \n",
      "2252      Michaelberg  2019-03-27 18:27:34  54.85  4421836952718   \n",
      "2253  Lake Latoyabury  2019-02-23 21:12:24  47.90  3269652929887   \n",
      "2254  Lake Latoyabury  2019-05-06 08:57:56  51.80  4018025271936   \n",
      "\n",
      "      driver_count   type  \n",
      "2250             9  Rural  \n",
      "2251             8  Rural  \n",
      "2252             6  Rural  \n",
      "2253             2  Rural  \n",
      "2254             2  Rural  \n"
     ]
    }
   ],
   "source": [
    "\"\"\"Create a bubble chart that showcases the average fare versus the total number of rides with bubble \n",
    "size based on the total number of drivers for each city type, including urban, suburban, and rural.\"\"\"\n",
    "# Filter each type of city\n",
    "# Create the Urban city DataFrame.\n",
    "urban_cities_df = pyber_data_df[pyber_data_df[\"type\"] == \"Urban\"]\n",
    "print(urban_cities_df.head())\n",
    "# Create the Urban city DataFrame.\n",
    "suburban_cities_df = pyber_data_df[pyber_data_df[\"type\"] == \"Suburban\"]\n",
    "print(suburban_cities_df.head())\n",
    "# Create the Urban city DataFrame.\n",
    "rural_cities_df = pyber_data_df[pyber_data_df[\"type\"] == \"Rural\"]\n",
    "print(rural_cities_df.head())"
   ]
  },
  {
   "cell_type": "code",
   "execution_count": 74,
   "metadata": {},
   "outputs": [
    {
     "name": "stdout",
     "output_type": "stream",
     "text": [
      "city\n",
      "Amandaburgh        18\n",
      "Barajasview        22\n",
      "Carriemouth        27\n",
      "Christopherfurt    27\n",
      "Deanville          19\n",
      "Name: ride_id, dtype: int64\n",
      "city\n",
      "Barronchester    16\n",
      "Bethanyland      18\n",
      "Brandonfort      19\n",
      "Colemanland      22\n",
      "Davidfurt        17\n",
      "Name: ride_id, dtype: int64\n",
      "city\n",
      "Bradshawfurt      10\n",
      "Garzaport          3\n",
      "Harringtonfort     6\n",
      "Jessicaport        6\n",
      "Lake Jamie         6\n",
      "Name: ride_id, dtype: int64\n"
     ]
    }
   ],
   "source": [
    "# Get the number of rides for urban cities.\n",
    "urban_ride_count = urban_cities_df.groupby([\"city\"]).count()[\"ride_id\"]\n",
    "print(urban_ride_count.head())\n",
    "# Get the number of rides for suburban cities.\n",
    "suburban_ride_count = suburban_cities_df.groupby([\"city\"]).count()[\"ride_id\"]\n",
    "print(suburban_ride_count.head())\n",
    "# Get the number of rides for rural cities.\n",
    "rural_ride_count = rural_cities_df.groupby([\"city\"]).count()[\"ride_id\"]\n",
    "print(rural_ride_count.head())"
   ]
  },
  {
   "cell_type": "code",
   "execution_count": 75,
   "metadata": {},
   "outputs": [
    {
     "name": "stdout",
     "output_type": "stream",
     "text": [
      "city\n",
      "Amandaburgh        24.641667\n",
      "Barajasview        25.332273\n",
      "Carriemouth        28.314444\n",
      "Christopherfurt    24.501852\n",
      "Deanville          25.842632\n",
      "Name: fare, dtype: float64\n",
      "city\n",
      "Barronchester    36.422500\n",
      "Bethanyland      32.956111\n",
      "Brandonfort      35.437368\n",
      "Colemanland      30.894545\n",
      "Davidfurt        31.995882\n",
      "Name: fare, dtype: float64\n",
      "city\n",
      "Bradshawfurt      40.064000\n",
      "Garzaport         24.123333\n",
      "Harringtonfort    33.470000\n",
      "Jessicaport       36.013333\n",
      "Lake Jamie        34.358333\n",
      "Name: fare, dtype: float64\n"
     ]
    }
   ],
   "source": [
    "# Get average fare for each city in the urban cities.\n",
    "urban_avg_fare = urban_cities_df.groupby([\"city\"]).mean()[\"fare\"]\n",
    "print(urban_avg_fare.head())\n",
    "# Get average fare for each city in the urban cities.\n",
    "suburban_avg_fare = suburban_cities_df.groupby([\"city\"]).mean()[\"fare\"]\n",
    "print(suburban_avg_fare.head())\n",
    "# Get average fare for each city in the urban cities.\n",
    "rural_avg_fare = rural_cities_df.groupby([\"city\"]).mean()[\"fare\"]\n",
    "print(rural_avg_fare.head())"
   ]
  },
  {
   "cell_type": "code",
   "execution_count": 76,
   "metadata": {},
   "outputs": [
    {
     "data": {
      "image/png": "[encoded data removed]",
      "text/plain": [
       "<Figure size 432x288 with 1 Axes>"
      ]
     },
     "metadata": {
      "needs_background": "light"
     },
     "output_type": "display_data"
    }
   ],
   "source": [
    "#Urban plot\n",
    "fig, ax = plt.subplots()\n",
    "ax.scatter(urban_ride_count, urban_avg_fare, color='coral', alpha=0.8, ec='black', lw=1, s=10*urban_ride_count, label='Urban')\n",
    "# Format\n",
    "ax.set_ylabel('Average Fare [$USD]')\n",
    "ax.set_xlabel('Total Number of Rides (Per City)')\n",
    "ax.set_title('PyBare Rider Sharing Data (2019)')\n",
    "ax.legend()\n",
    "plt.grid(True)"
   ]
  },
  {
   "cell_type": "code",
   "execution_count": 77,
   "metadata": {},
   "outputs": [
    {
     "data": {
      "image/png": "[encoded data removed]",
      "text/plain": [
       "<Figure size 432x288 with 1 Axes>"
      ]
     },
     "metadata": {
      "needs_background": "light"
     },
     "output_type": "display_data"
    }
   ],
   "source": [
    "#Suburban plot\n",
    "fig, ax = plt.subplots()\n",
    "ax.scatter(suburban_ride_count, suburban_avg_fare, color='xkcd:sky blue', alpha=0.8, ec='black', lw=1, s=10*suburban_ride_count, label='Suburban')\n",
    "# Format\n",
    "ax.set_ylabel('Average Fare [$USD]')\n",
    "ax.set_xlabel('Total Number of Rides (Per City)')\n",
    "ax.set_title('PyBare Rider Sharing Data (2019)')\n",
    "ax.legend()\n",
    "plt.grid(True)"
   ]
  },
  {
   "cell_type": "code",
   "execution_count": 78,
   "metadata": {},
   "outputs": [
    {
     "data": {
      "image/png": "[encoded data removed]",
      "text/plain": [
       "<Figure size 432x288 with 1 Axes>"
      ]
     },
     "metadata": {
      "needs_background": "light"
     },
     "output_type": "display_data"
    }
   ],
   "source": [
    "#Rural plot\n",
    "fig, ax = plt.subplots()\n",
    "ax.scatter(rural_ride_count, rural_avg_fare, color='gold', alpha=0.8, ec='black', lw=1, s=10*rural_ride_count, label='Rural')\n",
    "# Format\n",
    "ax.set_ylabel('Average Fare [$USD]')\n",
    "ax.set_xlabel('Total Number of Rides (Per City)')\n",
    "ax.set_title('PyBare Rider Sharing Data (2019)')\n",
    "ax.legend()\n",
    "plt.grid(True)"
   ]
  },
  {
   "cell_type": "code",
   "execution_count": 79,
   "metadata": {},
   "outputs": [
    {
     "data": {
      "image/png": "[encoded data removed]",
      "text/plain": [
       "<Figure size 720x432 with 1 Axes>"
      ]
     },
     "metadata": {
      "needs_background": "light"
     },
     "output_type": "display_data"
    }
   ],
   "source": [
    "# Add the scatter charts for each type of city.\n",
    "#plt.subplots(figsize=(10, 6))\n",
    "fig, ax = plt.subplots(figsize=(10, 6))\n",
    "\"\"\"plt.scatter(urban_ride_count,urban_avg_fare,s=10*urban_driver_count, c=\"coral\",ec=\"black\", lw=1,alpha=0.8, label=\"Urban\")\n",
    "plt.scatter(suburban_ride_count,suburban_avg_fare,s=10*suburban_driver_count, c=\"skyblue\",ec=\"black\", lw=1,alpha=0.8, label=\"Suburban\")\n",
    "plt.scatter(rural_ride_count,rural_avg_fare,s=10*rural_driver_count, c=\"gold\",ec=\"black\", lw=1,alpha=0.8, label=\"Rural\")\"\"\"\n",
    "ax.scatter(urban_ride_count, urban_avg_fare, color='coral', alpha=0.8, ec='black', lw=1, s=10*urban_ride_count, label='Urban')\n",
    "ax.scatter(suburban_ride_count, suburban_avg_fare, color='xkcd:sky blue', alpha=0.8, ec='black', lw=1, s=10*suburban_ride_count, label='Suburban')\n",
    "ax.scatter(rural_ride_count, rural_avg_fare, color='gold', alpha=0.8, ec='black', lw=1, s=10*rural_ride_count, label='Rural')\n",
    "# Format\n",
    "\"\"\"plt.ylabel('Average Fare [$USD]', fontsize=12)\n",
    "plt.xlabel('Total Number of Rides (Per City)', fontsize=12)\n",
    "plt.title('PyBare Rider Sharing Data (2019)', fontsize=20)\n",
    "plt.legend()\"\"\"\n",
    "ax.set_ylabel('Average Fare [$USD]', fontsize=12)\n",
    "ax.set_xlabel('Total Number of Rides (Per City)', fontsize=12)\n",
    "ax.set_title('PyBare Rider Sharing Data (2019)', fontsize=20)\n",
    "ax.legend()\n",
    "plt.grid(True)\n",
    "# Create a legend\n",
    "lgnd = plt.legend(fontsize=\"12\", mode=\"Expanded\",scatterpoints=1, loc=\"best\", title=\"City Types\")\n",
    "lgnd.legendHandles[0]._sizes = [75]\n",
    "lgnd.legendHandles[1]._sizes = [75]\n",
    "lgnd.legendHandles[2]._sizes = [75]\n",
    "lgnd.get_title().set_fontsize(12)\n",
    "# Incorporate a text label about circle size.\n",
    "plt.text(42, 35, \"Note: Circle size correlates with driver count per city.\", fontsize=\"12\")\n",
    "# First save then show, otherwise blank image will be saved!!\n",
    "# Save the figure.\n",
    "plt.savefig('Analysis/Fig1.png')\n",
    "# Show the plot\n",
    "plt.show()"
   ]
  },
  {
   "cell_type": "code",
   "execution_count": 80,
   "metadata": {},
   "outputs": [
    {
     "name": "stdout",
     "output_type": "stream",
     "text": [
      "city\n",
      "Amandaburgh        12.0\n",
      "Barajasview        26.0\n",
      "Carriemouth        52.0\n",
      "Christopherfurt    41.0\n",
      "Deanville          49.0\n",
      "Name: driver_count, dtype: float64\n",
      "city\n",
      "Barronchester    11.0\n",
      "Bethanyland      22.0\n",
      "Brandonfort      10.0\n",
      "Colemanland      23.0\n",
      "Davidfurt        23.0\n",
      "Name: driver_count, dtype: float64\n",
      "city\n",
      "Bradshawfurt      7.0\n",
      "Garzaport         7.0\n",
      "Harringtonfort    4.0\n",
      "Jessicaport       1.0\n",
      "Lake Jamie        4.0\n",
      "Name: driver_count, dtype: float64\n"
     ]
    }
   ],
   "source": [
    "# Get the average number of drivers for each urban city.\n",
    "urban_driver_count = urban_cities_df.groupby([\"city\"]).mean()[\"driver_count\"]\n",
    "print(urban_driver_count.head())\n",
    "# Get the average number of drivers for each urban city.\n",
    "suburban_driver_count = suburban_cities_df.groupby([\"city\"]).mean()[\"driver_count\"]\n",
    "print(suburban_driver_count.head())\n",
    "# Get the average number of drivers for each urban city.\n",
    "rural_driver_count = rural_cities_df.groupby([\"city\"]).mean()[\"driver_count\"]\n",
    "print(rural_driver_count.head())"
   ]
  },
  {
   "cell_type": "code",
   "execution_count": 81,
   "metadata": {},
   "outputs": [
    {
     "name": "stdout",
     "output_type": "stream",
     "text": [
      "              fare       ride_id  driver_count\n",
      "count  1625.000000  1.625000e+03   1625.000000\n",
      "mean     24.525772  4.873485e+12     36.678154\n",
      "std      11.738649  2.907440e+12     20.075545\n",
      "min       4.050000  1.458810e+10      3.000000\n",
      "25%      14.550000  2.400244e+12     22.000000\n",
      "50%      24.640000  4.711188e+12     37.000000\n",
      "75%      34.580000  7.451579e+12     52.000000\n",
      "max      44.970000  9.991538e+12     73.000000\n",
      "             fare       ride_id  driver_count\n",
      "count  625.000000  6.250000e+02    625.000000\n",
      "mean    30.970128  4.971015e+12     13.712000\n",
      "std     10.677508  2.912410e+12      8.042372\n",
      "min     12.050000  3.218337e+08      1.000000\n",
      "25%     21.970000  2.364253e+12      5.000000\n",
      "50%     30.750000  5.053221e+12     16.000000\n",
      "75%     39.830000  7.551674e+12     21.000000\n",
      "max     49.960000  9.917744e+12     25.000000\n",
      "             fare       ride_id  driver_count\n",
      "count  125.000000  1.250000e+02    125.000000\n",
      "mean    34.623440  4.647746e+12      4.296000\n",
      "std     14.558046  2.887834e+12      2.691156\n",
      "min     10.110000  2.684873e+10      1.000000\n",
      "25%     19.900000  2.275364e+12      1.000000\n",
      "50%     37.050000  4.023962e+12      4.000000\n",
      "75%     47.070000  7.118047e+12      7.000000\n",
      "max     58.550000  9.990581e+12      9.000000\n"
     ]
    }
   ],
   "source": [
    "# Get summary statistics urban city.\n",
    "print(urban_cities_df.describe())\n",
    "# Get summary statistics suburban city.\n",
    "print(suburban_cities_df.describe())\n",
    "# Get summary statistics rural city.\n",
    "print(rural_cities_df.describe())"
   ]
  },
  {
   "cell_type": "code",
   "execution_count": 82,
   "metadata": {},
   "outputs": [],
   "source": [
    "#Determine the mean, median, and mode for the following:\n",
    "##The total number of rides for each city type."
   ]
  },
  {
   "cell_type": "code",
   "execution_count": 83,
   "metadata": {},
   "outputs": [
    {
     "name": "stdout",
     "output_type": "stream",
     "text": [
      "count    66.000000\n",
      "mean     24.621212\n",
      "std       5.408726\n",
      "min      12.000000\n",
      "25%      21.000000\n",
      "50%      24.000000\n",
      "75%      28.000000\n",
      "max      39.000000\n",
      "Name: ride_id, dtype: float64\n",
      "count    36.000000\n",
      "mean     17.361111\n",
      "std       4.323707\n",
      "min       9.000000\n",
      "25%      14.000000\n",
      "50%      17.000000\n",
      "75%      19.250000\n",
      "max      27.000000\n",
      "Name: ride_id, dtype: float64\n",
      "count    18.000000\n",
      "mean      6.944444\n",
      "std       2.508157\n",
      "min       3.000000\n",
      "25%       5.250000\n",
      "50%       6.000000\n",
      "75%       8.750000\n",
      "max      12.000000\n",
      "Name: ride_id, dtype: float64\n"
     ]
    }
   ],
   "source": [
    "# Get summary statistics urban ride.\n",
    "print(urban_ride_count.describe())\n",
    "# Get summary statistics suburban ride.\n",
    "print(suburban_ride_count.describe())\n",
    "# Get summary statistics rual ride.\n",
    "print(rural_ride_count.describe())"
   ]
  },
  {
   "cell_type": "code",
   "execution_count": 84,
   "metadata": {},
   "outputs": [
    {
     "data": {
      "text/plain": [
       "(24.62, 17.36, 6.94)"
      ]
     },
     "execution_count": 84,
     "metadata": {},
     "output_type": "execute_result"
    }
   ],
   "source": [
    "# Calculate the mean of the ride count for each city type.\n",
    "round(urban_ride_count.mean(),2), round(suburban_ride_count.mean(),2), round(rural_ride_count.mean(),2)"
   ]
  },
  {
   "cell_type": "code",
   "execution_count": 85,
   "metadata": {},
   "outputs": [
    {
     "data": {
      "text/plain": [
       "(24.0, 17.0, 6.0)"
      ]
     },
     "execution_count": 85,
     "metadata": {},
     "output_type": "execute_result"
    }
   ],
   "source": [
    "# Calculate the median of the ride count for each city type.\n",
    "round(urban_ride_count.median(),2), round(suburban_ride_count.median(),2), round(rural_ride_count.median(),2)"
   ]
  },
  {
   "cell_type": "code",
   "execution_count": 86,
   "metadata": {},
   "outputs": [
    {
     "data": {
      "text/plain": [
       "(0    22\n",
       " 1    25\n",
       " dtype: int64,\n",
       " 0    17\n",
       " dtype: int64,\n",
       " 0    6\n",
       " dtype: int64)"
      ]
     },
     "execution_count": 86,
     "metadata": {},
     "output_type": "execute_result"
    }
   ],
   "source": [
    "# Calculate the mode of the ride count for each city type.\n",
    "urban_ride_count.mode(), suburban_ride_count.mode(),rural_ride_count.mode()"
   ]
  },
  {
   "cell_type": "code",
   "execution_count": 87,
   "metadata": {},
   "outputs": [],
   "source": [
    "import scipy.stats as sts"
   ]
  },
  {
   "cell_type": "code",
   "execution_count": 88,
   "metadata": {},
   "outputs": [
    {
     "name": "stdout",
     "output_type": "stream",
     "text": [
      "The mean for the ride counts for urban trips is 24.62.\n",
      "The median for the ride counts for urban trips is 24.0.\n",
      "The mode for the ride counts for urban trips is ModeResult(mode=array([22], dtype=int64), count=array([7])).\n",
      "--------\n",
      "The mean for the ride counts for suburban trips is 24.62.\n",
      "The median for the ride counts for suburban trips is 17.0.\n",
      "The mode for the ride counts for suburban trips is ModeResult(mode=array([17], dtype=int64), count=array([7])).\n",
      "--------\n",
      "The mean for the ride counts for rural trips is 6.94.\n",
      "The median for the ride counts for rural trips is 6.0.\n",
      "The mode for the ride counts for rural trips is ModeResult(mode=array([6], dtype=int64), count=array([5])).\n"
     ]
    }
   ],
   "source": [
    "# Calculate the measures of central tendency for the ride count for the urban cities.\n",
    "mean_urban_ride_count = np.mean(urban_ride_count)\n",
    "print(f\"The mean for the ride counts for urban trips is {mean_urban_ride_count:.2f}.\")\n",
    "median_urban_ride_count = np.median(urban_ride_count)\n",
    "print(f\"The median for the ride counts for urban trips is {median_urban_ride_count}.\")\n",
    "mode_urban_ride_count = sts.mode(urban_ride_count)\n",
    "print(f\"The mode for the ride counts for urban trips is {mode_urban_ride_count}.\")\n",
    "print('--------')\n",
    "# Calculate the measures of central tendency for the ride count for the urban cities.\n",
    "mean_suburban_ride_count = np.mean(urban_ride_count)\n",
    "print(f\"The mean for the ride counts for suburban trips is {mean_suburban_ride_count:.2f}.\")\n",
    "median_suburban_ride_count = np.median(suburban_ride_count)\n",
    "print(f\"The median for the ride counts for suburban trips is {median_suburban_ride_count}.\")\n",
    "mode_suburban_ride_count = sts.mode(suburban_ride_count)\n",
    "print(f\"The mode for the ride counts for suburban trips is {mode_suburban_ride_count}.\")\n",
    "print('--------')\n",
    "# Calculate the measures of central tendency for the ride count for the rural cities.\n",
    "mean_rural_ride_count = np.mean(rural_ride_count)\n",
    "print(f\"The mean for the ride counts for rural trips is {mean_rural_ride_count:.2f}.\")\n",
    "median_rural_ride_count = np.median(rural_ride_count)\n",
    "print(f\"The median for the ride counts for rural trips is {median_rural_ride_count}.\")\n",
    "mode_rural_ride_count = sts.mode(rural_ride_count)\n",
    "print(f\"The mode for the ride counts for rural trips is {mode_rural_ride_count}.\")"
   ]
  },
  {
   "cell_type": "code",
   "execution_count": 89,
   "metadata": {},
   "outputs": [
    {
     "data": {
      "text/plain": [
       "(24.53, 30.97, 34.62)"
      ]
     },
     "execution_count": 89,
     "metadata": {},
     "output_type": "execute_result"
    }
   ],
   "source": [
    "# Get the fares for the urban cities.\n",
    "urban_fares=urban_cities_df['fare']\n",
    "suburban_fares=suburban_cities_df['fare']\n",
    "rural_fares=rural_cities_df['fare']\n",
    "##The average fares for each city type.\n",
    "round(urban_fares.mean(),2), round(suburban_fares.mean(),2), round(rural_fares.mean(),2)"
   ]
  },
  {
   "cell_type": "code",
   "execution_count": 90,
   "metadata": {},
   "outputs": [
    {
     "data": {
      "text/plain": [
       "(24.64, 30.75, 37.05)"
      ]
     },
     "execution_count": 90,
     "metadata": {},
     "output_type": "execute_result"
    }
   ],
   "source": [
    "##The median fares for each city type.\n",
    "round(urban_fares.median(),2), round(suburban_fares.median(),2), round(rural_fares.median(),2)"
   ]
  },
  {
   "cell_type": "code",
   "execution_count": 91,
   "metadata": {},
   "outputs": [
    {
     "data": {
      "text/plain": [
       "(0    22.86\n",
       " dtype: float64,\n",
       " 0    17.99\n",
       " 1    23.06\n",
       " 2    35.76\n",
       " 3    41.85\n",
       " dtype: float64,\n",
       " 0    37.05\n",
       " 1    51.80\n",
       " 2    54.66\n",
       " dtype: float64)"
      ]
     },
     "execution_count": 91,
     "metadata": {},
     "output_type": "execute_result"
    }
   ],
   "source": [
    "# Calculate the mode of the fare for each city type. all modes in the series\n",
    "urban_fares.mode(), suburban_fares.mode(),rural_fares.mode()"
   ]
  },
  {
   "cell_type": "code",
   "execution_count": 92,
   "metadata": {},
   "outputs": [
    {
     "name": "stdout",
     "output_type": "stream",
     "text": [
      "ModeResult(mode=array([22.86]), count=array([5]))\n",
      "ModeResult(mode=array([17.99]), count=array([3]))\n",
      "ModeResult(mode=array([37.05]), count=array([2]))\n"
     ]
    }
   ],
   "source": [
    "# Calculate the mode of the fare for each city type v2. how many are there per mode\n",
    "print(sts.mode(urban_fares))\n",
    "print(sts.mode(suburban_fares))\n",
    "print(sts.mode(rural_fares))"
   ]
  },
  {
   "cell_type": "code",
   "execution_count": 93,
   "metadata": {},
   "outputs": [
    {
     "data": {
      "text/plain": [
       "(59602, 8570, 537)"
      ]
     },
     "execution_count": 93,
     "metadata": {},
     "output_type": "execute_result"
    }
   ],
   "source": [
    "# Get the drivers for the urban cities.\n",
    "urban_drivers=urban_cities_df['driver_count']\n",
    "suburban_drivers=suburban_cities_df['driver_count']\n",
    "rural_drivers=rural_cities_df['driver_count']\n",
    "##The total number of drivers for each city type.\n",
    "urban_drivers.sum(), suburban_drivers.sum(), rural_drivers.sum()"
   ]
  },
  {
   "cell_type": "code",
   "execution_count": 94,
   "metadata": {},
   "outputs": [
    {
     "data": {
      "text/plain": [
       "count    1625.000000\n",
       "mean       36.678154\n",
       "std        20.075545\n",
       "min         3.000000\n",
       "25%        22.000000\n",
       "50%        37.000000\n",
       "75%        52.000000\n",
       "max        73.000000\n",
       "Name: driver_count, dtype: float64"
      ]
     },
     "execution_count": 94,
     "metadata": {},
     "output_type": "execute_result"
    }
   ],
   "source": [
    "urban_drivers.describe()"
   ]
  },
  {
   "cell_type": "code",
   "execution_count": 95,
   "metadata": {},
   "outputs": [
    {
     "data": {
      "text/plain": [
       "(36.68, 13.71, 4.3)"
      ]
     },
     "execution_count": 95,
     "metadata": {},
     "output_type": "execute_result"
    }
   ],
   "source": [
    "##The average drivers for each city type.\n",
    "round(urban_drivers.mean(),2), round(suburban_drivers.mean(),2), round(rural_drivers.mean(),2)"
   ]
  },
  {
   "cell_type": "code",
   "execution_count": 96,
   "metadata": {},
   "outputs": [
    {
     "data": {
      "text/plain": [
       "(37.0, 16.0, 4.0)"
      ]
     },
     "execution_count": 96,
     "metadata": {},
     "output_type": "execute_result"
    }
   ],
   "source": [
    "##The median drivers for each city type.\n",
    "round(urban_drivers.median(),2), round(suburban_drivers.median(),2), round(rural_drivers.median(),2)"
   ]
  },
  {
   "cell_type": "code",
   "execution_count": 97,
   "metadata": {},
   "outputs": [
    {
     "data": {
      "text/plain": [
       "(0    39\n",
       " dtype: int64,\n",
       " 0    20\n",
       " dtype: int64,\n",
       " 0    1\n",
       " dtype: int64)"
      ]
     },
     "execution_count": 97,
     "metadata": {},
     "output_type": "execute_result"
    }
   ],
   "source": [
    "# Calculate the mode of the drivers for each city type. all modes in the series\n",
    "urban_drivers.mode(), suburban_drivers.mode(),rural_drivers.mode()"
   ]
  },
  {
   "cell_type": "code",
   "execution_count": 98,
   "metadata": {},
   "outputs": [
    {
     "name": "stdout",
     "output_type": "stream",
     "text": [
      "ModeResult(mode=array([39], dtype=int64), count=array([86]))\n",
      "ModeResult(mode=array([20], dtype=int64), count=array([79]))\n",
      "ModeResult(mode=array([1], dtype=int64), count=array([32]))\n"
     ]
    }
   ],
   "source": [
    "# Calculate the mode of the drivers for each city type v2. how many are there per mode\n",
    "print(sts.mode(urban_drivers))\n",
    "print(sts.mode(suburban_drivers))\n",
    "print(sts.mode(rural_drivers))"
   ]
  },
  {
   "cell_type": "code",
   "execution_count": 99,
   "metadata": {},
   "outputs": [
    {
     "data": {
      "image/png": "[encoded data removed]",
      "text/plain": [
       "<Figure size 432x288 with 1 Axes>"
      ]
     },
     "metadata": {
      "needs_background": "light"
     },
     "output_type": "display_data"
    }
   ],
   "source": [
    "#Create box-and-whisker plots that visualize each of the following to determine if there are any outliers:\n",
    "##The number of rides for each city type.\n",
    "# Create a box-and-whisker plot for the urban cities ride count.\n",
    "fig, ax = plt.subplots()\n",
    "x_labels = [\"Urban\"]\n",
    "ax.boxplot(urban_ride_count, labels=x_labels)\n",
    "# Add the title, y-axis label and grid.\n",
    "ax.set_title('Ride Count Data (2019)')\n",
    "ax.set_ylabel('Number of Rides')\n",
    "#ax.set_xlabel('Urban')\n",
    "ax.set_yticks(np.arange(10, 43, step=2.0))\n",
    "ax.grid()\n",
    "plt.show()"
   ]
  },
  {
   "cell_type": "code",
   "execution_count": 123,
   "metadata": {},
   "outputs": [
    {
     "data": {
      "image/png": "[encoded data removed]",
      "text/plain": [
       "<Figure size 720x432 with 1 Axes>"
      ]
     },
     "metadata": {
      "needs_background": "light"
     },
     "output_type": "display_data"
    }
   ],
   "source": [
    "# Add all ride count box-and-whisker plots to the same graph.\n",
    "x_labels = [\"Urban\", \"Suburban\",\"Rural\"]\n",
    "ride_count_data = [urban_ride_count, suburban_ride_count, rural_ride_count]\n",
    "fig, ax = plt.subplots(figsize=(10, 6))\n",
    "ax.set_title('Ride Count Data (2019)',fontsize=20)\n",
    "ax.set_ylabel('Number of Rides',fontsize=14)\n",
    "ax.set_xlabel(\"City Types\",fontsize=14)\n",
    "ax.boxplot(ride_count_data, labels=x_labels)\n",
    "#ax.set_yticks(np.arange(0, 45, step=3.0))\n",
    "ax.grid()\n",
    "# Save the figure.\n",
    "plt.savefig(\"analysis/Fig2.png\")\n",
    "plt.show()"
   ]
  },
  {
   "cell_type": "code",
   "execution_count": 101,
   "metadata": {},
   "outputs": [
    {
     "name": "stdout",
     "output_type": "stream",
     "text": [
      "West Angela has the highest rider count.\n"
     ]
    }
   ],
   "source": [
    "# Get the city that matches 39.\n",
    "urban_city_outlier = urban_ride_count[urban_ride_count==39].index[0]\n",
    "print(f\"{urban_city_outlier} has the highest rider count.\")"
   ]
  },
  {
   "cell_type": "code",
   "execution_count": 102,
   "metadata": {},
   "outputs": [
    {
     "data": {
      "image/png": "[encoded data removed]",
      "text/plain": [
       "<Figure size 432x288 with 1 Axes>"
      ]
     },
     "metadata": {
      "needs_background": "light"
     },
     "output_type": "display_data"
    },
    {
     "name": "stdout",
     "output_type": "stream",
     "text": [
      "Summary Statistics\n"
     ]
    },
    {
     "data": {
      "text/plain": [
       "count    1625.000000\n",
       "mean       24.525772\n",
       "std        11.738649\n",
       "min         4.050000\n",
       "25%        14.550000\n",
       "50%        24.640000\n",
       "75%        34.580000\n",
       "max        44.970000\n",
       "Name: fare, dtype: float64"
      ]
     },
     "execution_count": 102,
     "metadata": {},
     "output_type": "execute_result"
    }
   ],
   "source": [
    "#Create box-and-whisker plots that visualize each of the following to determine if there are any outliers:\n",
    "##The fares for each city type.\n",
    "# Create a box-and-whisker plot for the urban fare data.\n",
    "x_labels = [\"Urban\"]\n",
    "fig, ax = plt.subplots()\n",
    "ax.boxplot(urban_fares, labels=x_labels)\n",
    "# Add the title, y-axis label and grid.\n",
    "ax.set_title('Ride Fare Data (2019)')\n",
    "ax.set_ylabel('Fare($USD)')\n",
    "ax.set_yticks(np.arange(0, 50, step=5.0))\n",
    "ax.grid()\n",
    "plt.show()\n",
    "print(\"Summary Statistics\")\n",
    "urban_fares.describe()"
   ]
  },
  {
   "cell_type": "code",
   "execution_count": 103,
   "metadata": {},
   "outputs": [
    {
     "data": {
      "image/png": "[encoded data removed]",
      "text/plain": [
       "<Figure size 432x288 with 1 Axes>"
      ]
     },
     "metadata": {
      "needs_background": "light"
     },
     "output_type": "display_data"
    },
    {
     "name": "stdout",
     "output_type": "stream",
     "text": [
      "Summary Statistics\n"
     ]
    },
    {
     "data": {
      "text/plain": [
       "count    1625.000000\n",
       "mean       24.525772\n",
       "std        11.738649\n",
       "min         4.050000\n",
       "25%        14.550000\n",
       "50%        24.640000\n",
       "75%        34.580000\n",
       "max        44.970000\n",
       "Name: fare, dtype: float64"
      ]
     },
     "execution_count": 103,
     "metadata": {},
     "output_type": "execute_result"
    }
   ],
   "source": [
    "# Create a box-and-whisker plot for the suburban fare data.\n",
    "x_labels = [\"Suburban\"]\n",
    "fig, ax = plt.subplots()\n",
    "ax.boxplot(suburban_fares, labels=x_labels)\n",
    "# Add the title, y-axis label and grid.\n",
    "ax.set_title('Ride Fare Data (2019)')\n",
    "ax.set_ylabel('Fare($USD)')\n",
    "ax.set_yticks(np.arange(10, 55, step=5.0))\n",
    "ax.grid()\n",
    "plt.show()\n",
    "print(\"Summary Statistics\")\n",
    "urban_fares.describe()"
   ]
  },
  {
   "cell_type": "code",
   "execution_count": 104,
   "metadata": {},
   "outputs": [
    {
     "data": {
      "image/png": "[encoded data removed]",
      "text/plain": [
       "<Figure size 432x288 with 1 Axes>"
      ]
     },
     "metadata": {
      "needs_background": "light"
     },
     "output_type": "display_data"
    },
    {
     "name": "stdout",
     "output_type": "stream",
     "text": [
      "Summary Statistics\n"
     ]
    },
    {
     "data": {
      "text/plain": [
       "count    1625.000000\n",
       "mean       24.525772\n",
       "std        11.738649\n",
       "min         4.050000\n",
       "25%        14.550000\n",
       "50%        24.640000\n",
       "75%        34.580000\n",
       "max        44.970000\n",
       "Name: fare, dtype: float64"
      ]
     },
     "execution_count": 104,
     "metadata": {},
     "output_type": "execute_result"
    }
   ],
   "source": [
    "# Create a box-and-whisker plot for the rural fare data.\n",
    "x_labels = [\"Rural\"]\n",
    "fig, ax = plt.subplots()\n",
    "ax.boxplot(rural_fares, labels=x_labels)\n",
    "# Add the title, y-axis label and grid.\n",
    "ax.set_title('Ride Fare Data (2019)')\n",
    "ax.set_ylabel('Fare($USD)')\n",
    "#ax.set_yticks(np.arange(10, 65, step=5.0))\n",
    "ax.grid()\n",
    "plt.show()\n",
    "print(\"Summary Statistics\")\n",
    "urban_fares.describe()"
   ]
  },
  {
   "cell_type": "code",
   "execution_count": 105,
   "metadata": {},
   "outputs": [
    {
     "data": {
      "image/png": "[encoded data removed]",
      "text/plain": [
       "<Figure size 720x432 with 1 Axes>"
      ]
     },
     "metadata": {
      "needs_background": "light"
     },
     "output_type": "display_data"
    }
   ],
   "source": [
    "# Create a box-and-whisker plot for the all fare data.\n",
    "x_labels = [\"Urban\", \"Suburban\",\"Rural\"]\n",
    "fares_data = [urban_fares, suburban_fares, rural_fares]\n",
    "fig, ax = plt.subplots(figsize=(10, 6))\n",
    "ax.boxplot(fares_data, labels=x_labels)\n",
    "# Add the title, y-axis label and grid.\n",
    "ax.set_title('Ride Fare Data (2019)',fontsize=20)\n",
    "ax.set_ylabel('Fare($USD)',fontsize=14)\n",
    "ax.set_xlabel('City Types',fontsize=14)\n",
    "ax.set_yticks(np.arange(0, 65, step=5.0))\n",
    "ax.grid()\n",
    "plt.savefig(\"analysis/Fig3.png\")\n",
    "plt.show()"
   ]
  },
  {
   "cell_type": "code",
   "execution_count": 106,
   "metadata": {},
   "outputs": [
    {
     "data": {
      "image/png": "[encoded data removed]",
      "text/plain": [
       "<Figure size 432x288 with 1 Axes>"
      ]
     },
     "metadata": {
      "needs_background": "light"
     },
     "output_type": "display_data"
    },
    {
     "name": "stdout",
     "output_type": "stream",
     "text": [
      "Summary Statistics\n"
     ]
    },
    {
     "data": {
      "text/plain": [
       "count    1625.000000\n",
       "mean       36.678154\n",
       "std        20.075545\n",
       "min         3.000000\n",
       "25%        22.000000\n",
       "50%        37.000000\n",
       "75%        52.000000\n",
       "max        73.000000\n",
       "Name: driver_count, dtype: float64"
      ]
     },
     "execution_count": 106,
     "metadata": {},
     "output_type": "execute_result"
    }
   ],
   "source": [
    "#Create box-and-whisker plots that visualize each of the following to determine if there are any outliers:\n",
    "##The number of drivers for each city type.\n",
    "# Create a box-and-whisker plot for the urban driver data.\n",
    "x_labels = [\"Urban\"]\n",
    "fig, ax = plt.subplots()\n",
    "ax.boxplot(urban_drivers, labels=x_labels)\n",
    "# Add the title, y-axis label and grid.\n",
    "ax.set_title('Ride Fare Data (2019)')\n",
    "ax.set_ylabel('Number of Drivers')\n",
    "ax.set_yticks(np.arange(0, 80, step=10.0))\n",
    "ax.grid()\n",
    "plt.show()\n",
    "print(\"Summary Statistics\")\n",
    "urban_drivers.describe()"
   ]
  },
  {
   "cell_type": "code",
   "execution_count": 107,
   "metadata": {},
   "outputs": [
    {
     "data": {
      "image/png": "[encoded data removed]",
      "text/plain": [
       "<Figure size 432x288 with 1 Axes>"
      ]
     },
     "metadata": {
      "needs_background": "light"
     },
     "output_type": "display_data"
    },
    {
     "name": "stdout",
     "output_type": "stream",
     "text": [
      "Summary Statistics\n"
     ]
    },
    {
     "data": {
      "text/plain": [
       "count    625.000000\n",
       "mean      13.712000\n",
       "std        8.042372\n",
       "min        1.000000\n",
       "25%        5.000000\n",
       "50%       16.000000\n",
       "75%       21.000000\n",
       "max       25.000000\n",
       "Name: driver_count, dtype: float64"
      ]
     },
     "execution_count": 107,
     "metadata": {},
     "output_type": "execute_result"
    }
   ],
   "source": [
    "##The number of drivers for each city type.\n",
    "# Create a box-and-whisker plot for the suburban driver data.\n",
    "x_labels = [\"Suburban\"]\n",
    "fig, ax = plt.subplots()\n",
    "ax.boxplot(suburban_drivers, labels=x_labels)\n",
    "# Add the title, y-axis label and grid.\n",
    "ax.set_title('Ride Fare Data (2019)')\n",
    "ax.set_ylabel('Number of Drivers')\n",
    "ax.set_yticks(np.arange(0, 28, step=4.0))\n",
    "ax.grid()\n",
    "plt.show()\n",
    "print(\"Summary Statistics\")\n",
    "suburban_drivers.describe()"
   ]
  },
  {
   "cell_type": "code",
   "execution_count": 108,
   "metadata": {},
   "outputs": [
    {
     "data": {
      "image/png": "[encoded data removed]",
      "text/plain": [
       "<Figure size 432x288 with 1 Axes>"
      ]
     },
     "metadata": {
      "needs_background": "light"
     },
     "output_type": "display_data"
    },
    {
     "name": "stdout",
     "output_type": "stream",
     "text": [
      "Summary Statistics\n"
     ]
    },
    {
     "data": {
      "text/plain": [
       "count    125.000000\n",
       "mean       4.296000\n",
       "std        2.691156\n",
       "min        1.000000\n",
       "25%        1.000000\n",
       "50%        4.000000\n",
       "75%        7.000000\n",
       "max        9.000000\n",
       "Name: driver_count, dtype: float64"
      ]
     },
     "execution_count": 108,
     "metadata": {},
     "output_type": "execute_result"
    }
   ],
   "source": [
    "##The number of drivers for each city type.\n",
    "# Create a box-and-whisker plot for the rural driver data.\n",
    "x_labels = [\"Rural\"]\n",
    "fig, ax = plt.subplots()\n",
    "ax.boxplot(rural_drivers, labels=x_labels)\n",
    "# Add the title, y-axis label and grid.\n",
    "ax.set_title('Ride Fare Data (2019)')\n",
    "ax.set_ylabel('Number of Drivers')\n",
    "ax.set_yticks(np.arange(0, 12, step=2.0))\n",
    "ax.grid()\n",
    "plt.show()\n",
    "print(\"Summary Statistics\")\n",
    "rural_drivers.describe()"
   ]
  },
  {
   "cell_type": "code",
   "execution_count": 109,
   "metadata": {},
   "outputs": [
    {
     "data": {
      "image/png": "[encoded data removed]",
      "text/plain": [
       "<Figure size 720x432 with 1 Axes>"
      ]
     },
     "metadata": {
      "needs_background": "light"
     },
     "output_type": "display_data"
    }
   ],
   "source": [
    "# Create a box-and-whisker plot for the all drivers data.\n",
    "x_labels = [\"Urban\", \"Suburban\",\"Rural\"]\n",
    "drivers_data = [urban_drivers, suburban_drivers, rural_drivers]\n",
    "fig, ax = plt.subplots(figsize=(10, 6))\n",
    "ax.boxplot(drivers_data, labels=x_labels)\n",
    "# Add the title, y-axis label and grid.\n",
    "ax.set_title('Ride Fare Data (2019)',fontsize=20)\n",
    "ax.set_ylabel('Number of Drivers',fontsize=14)\n",
    "ax.set_xlabel('City Types',fontsize=14)\n",
    "ax.set_yticks(np.arange(0, 80, step=5.0))\n",
    "ax.grid()\n",
    "plt.savefig(\"analysis/Fig4.png\")\n",
    "plt.show()"
   ]
  },
  {
   "cell_type": "code",
   "execution_count": 110,
   "metadata": {},
   "outputs": [
    {
     "data": {
      "image/png": "[encoded data removed]",
      "text/plain": [
       "<Figure size 432x288 with 1 Axes>"
      ]
     },
     "metadata": {},
     "output_type": "display_data"
    }
   ],
   "source": [
    "def percentage(part,total):\n",
    "    percent=(part/total)*100\n",
    "    return(percent)\n",
    "#Create a pie chart that visualizes each of the following data for each city type:\n",
    "##The percent of total fares.\n",
    "#sum total fares\n",
    "total_fares=pyber_data_df['fare'].sum()\n",
    "#sum fares by type\n",
    "urban_total_fares=urban_cities_df['fare'].sum()\n",
    "suburban_total_fares=suburban_cities_df['fare'].sum()\n",
    "rural_total_fares=rural_cities_df['fare'].sum()\n",
    "#call percentage\n",
    "urban_percent=percentage(urban_total_fares, total_fares)\n",
    "suburban_percent=percentage(suburban_total_fares, total_fares)\n",
    "rural_percent=percentage(rural_total_fares, total_fares)\n",
    "# Build the percentage of fares by city type pie chart.\n",
    "type_percents=[rural_percent,suburban_percent,urban_percent]\n",
    "plt.pie(type_percents, labels=[\"Rural\", \"Suburban\", \"Urban\"], colors=[\"gold\", \"xkcd:sky blue\", \"coral\"], explode=[0, 0, 0.1], autopct='%1.1f%%', shadow=True, startangle=150)\n",
    "plt.title(\"% of Total Fares by City Type\")\n",
    "plt.show()"
   ]
  },
  {
   "cell_type": "code",
   "execution_count": 121,
   "metadata": {},
   "outputs": [
    {
     "data": {
      "image/png": "[encoded data removed]",
      "text/plain": [
       "<Figure size 432x288 with 1 Axes>"
      ]
     },
     "metadata": {},
     "output_type": "display_data"
    }
   ],
   "source": [
    "#Create a pie chart that visualizes each of the following data for each city type:\n",
    "##The percent of total rides.\n",
    "#sum total drivers\n",
    "total_rides=ride_data_df['ride_id'].count()\n",
    "#sum drivers by type\n",
    "urban_total_rides=urban_cities_df['ride_id'].count()\n",
    "suburban_total_rides=suburban_cities_df['ride_id'].count()\n",
    "rural_total_rides=rural_cities_df['ride_id'].count()\n",
    "#call percentage\n",
    "urban_r_percent=percentage(urban_total_rides, total_rides)\n",
    "suburban_r_percent=percentage(suburban_total_rides, total_rides)\n",
    "rural_r_percent=percentage(rural_total_rides, total_rides)\n",
    "# Build the percentage of drivers by city type pie chart.\n",
    "type_percents=[rural_r_percent,suburban_r_percent,urban_r_percent]\n",
    "plt.pie(type_percents, labels=[\"Rural\", \"Suburban\", \"Urban\"], colors=[\"gold\", \"xkcd:sky blue\", \"coral\"], explode=[0, 0, 0.1], autopct='%1.1f%%', shadow=True, startangle=150)\n",
    "plt.title(\"% of Total Rides by City Type\")\n",
    "plt.show()"
   ]
  },
  {
   "cell_type": "code",
   "execution_count": 122,
   "metadata": {},
   "outputs": [
    {
     "name": "stdout",
     "output_type": "stream",
     "text": [
      "2973\n"
     ]
    },
    {
     "data": {
      "image/png": "[encoded data removed]",
      "text/plain": [
       "<Figure size 432x288 with 1 Axes>"
      ]
     },
     "metadata": {},
     "output_type": "display_data"
    }
   ],
   "source": [
    "#Create a pie chart that visualizes each of the following data for each city type:\n",
    "##The percent of total drivers.\n",
    "#sum total drivers\n",
    "total_drivers=city_data_df['driver_count'].sum()\n",
    "print(total_drivers)\n",
    "#sum drivers by type\n",
    "urban_total_drivers=urban_driver_count.sum()\n",
    "suburban_total_drivers=suburban_driver_count.sum()\n",
    "rural_total_drivers=rural_driver_count.sum()\n",
    "#call percentage\n",
    "urban_d_percent=percentage(urban_total_drivers, total_drivers)\n",
    "suburban_d_percent=percentage(suburban_total_drivers, total_drivers)\n",
    "rural_d_percent=percentage(rural_total_drivers, total_drivers)\n",
    "# Build the percentage of drivers by city type pie chart.\n",
    "type_percents=[rural_d_percent,suburban_d_percent,urban_d_percent]\n",
    "plt.pie(type_percents, labels=[\"Rural\", \"Suburban\", \"Urban\"], colors=[\"gold\", \"xkcd:sky blue\", \"coral\"], explode=[0, 0, 0.1], autopct='%1.1f%%', shadow=True, startangle=150)\n",
    "plt.title(\"% of Total Drivers by City Type\")\n",
    "plt.show()"
   ]
  },
  {
   "cell_type": "code",
   "execution_count": null,
   "metadata": {},
   "outputs": [],
   "source": []
  }
 ],
 "metadata": {
  "kernelspec": {
   "display_name": "PythonDat",
   "language": "python",
   "name": "pythondat"
  },
  "language_info": {
   "codemirror_mode": {
    "name": "ipython",
    "version": 3
   },
   "file_extension": ".py",
   "mimetype": "text/x-python",
   "name": "python",
   "nbconvert_exporter": "python",
   "pygments_lexer": "ipython3",
   "version": "3.7.7"
  }
 },
 "nbformat": 4,
 "nbformat_minor": 4
}
